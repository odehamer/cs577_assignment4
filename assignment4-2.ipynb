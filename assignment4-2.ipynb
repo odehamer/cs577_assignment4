{
 "cells": [
  {
   "cell_type": "markdown",
   "id": "81c340e9",
   "metadata": {},
   "source": [
    "# Assignment #4\n",
    "\n",
    "READ ALL INSTRUCTIONS CAREFULLY\n",
    "\n",
    "This assignment is a puzzle. You have been given a data set with some semi-informative column headers but no additional information about it. Your goal is to investigate the data, understand as much about it as you can, and report back what you find.\n",
    "\n",
    "You are free to use any and all of the techniques we have covered this semester: EDA, data wrangling, visualization (scatter plots, line plots, histograms, jointplots, etc.), descriptive statistics (mean, median, variance, covariance, etc.), regression / model fitting, loss functions (MSE, MAE), R^2, cross-validation, bootstrapping, gradient descent, etc... \n",
    "\n",
    "There are many different ways to approach this assignment and be successful. I recommend starting simple and getting slowly more sophisticated as needed."
   ]
  },
  {
   "cell_type": "markdown",
   "id": "a2c70c18",
   "metadata": {},
   "source": [
    "## Collaborators\n",
    "\n",
    "You must work in groups of 2-3. You cannot work on this assignment alone. Your partners cannot be anyone you have partnered with previously on an assignment and they cannot be in your group for the semester project.\n",
    "\n",
    "**Names of all collaborators go here** (including yourself):"
   ]
  },
  {
   "cell_type": "markdown",
   "id": "0b2ace0a",
   "metadata": {},
   "source": [
    "## Tools\n",
    "\n",
    "You are not allowed to use LLMs (including the LLM results that pop up in Google search). You may use search online for ideas, use StackExchange, and I highly encourage using Python library documentation.\n",
    "\n",
    "Hint: It may be useful to use the sklearn library for model fitting (and not to implement model fitting or optimization by hand)."
   ]
  },
  {
   "cell_type": "markdown",
   "id": "9b96682b",
   "metadata": {},
   "source": [
    "## Submission Instructions"
   ]
  },
  {
   "cell_type": "markdown",
   "id": "039b2557",
   "metadata": {},
   "source": [
    "You must submit two files. One is your **Jupyter notebook** that you use to explore and analyze the data. The second file is a separate **PDF** reporting, presenting, and explaining your results with no code in it.\n",
    "\n",
    "**Only one person** in your group should submit the assignment files on Canvas. Be sure everyone's names are listed under collaborators in both the notebook and the PDF so everyone gets credit!"
   ]
  },
  {
   "cell_type": "markdown",
   "id": "bbe39424",
   "metadata": {},
   "source": [
    "## Potentially Helpful Documentation\n"
   ]
  },
  {
   "cell_type": "markdown",
   "id": "2f8611c5",
   "metadata": {},
   "source": [
    "https://scikit-learn.org/stable/api/sklearn.model_selection.html\n",
    "\n",
    "https://scikit-learn.org/stable/modules/linear_model.html\n",
    "\n",
    "https://scikit-learn.org/stable/api/sklearn.metrics.html\n",
    "\n",
    "https://scikit-learn.org/stable/modules/generated/sklearn.preprocessing.PolynomialFeatures.html"
   ]
  },
  {
   "cell_type": "markdown",
   "id": "247f29a2",
   "metadata": {},
   "source": [
    "# Your Code Below"
   ]
  },
  {
   "cell_type": "markdown",
   "id": "321e36a3",
   "metadata": {},
   "source": [
    "## Imports and CoW"
   ]
  },
  {
   "cell_type": "markdown",
   "id": "9db706ce",
   "metadata": {},
   "source": []
  },
  {
   "cell_type": "code",
   "execution_count": null,
   "id": "e16e76b2",
   "metadata": {},
   "outputs": [],
   "source": [
    "# Add all of your import statements here. ONLY include the imports you actually use. There are useful tools in the scikit-learn library for regression and model fitting, but you are not required to use it. If you use it, you will need to install it into your virtual environment.\n",
    "\n",
    "import pandas as pd\n",
    "import numpy as np\n",
    "from pathlib import Path\n",
    "\n",
    "# import matplotlib.pyplot as plt\n",
    "# import seaborn as sns\n",
    "# from sklearn.<something> import <something>"
   ]
  },
  {
   "cell_type": "code",
   "execution_count": null,
   "id": "8b9671b5",
   "metadata": {},
   "outputs": [],
   "source": [
    "# Enforce Copy-on-Write (CoW) semantics\n",
    "pd.set_option('mode.copy_on_write', True)"
   ]
  },
  {
   "cell_type": "markdown",
   "id": "8b804b64",
   "metadata": {},
   "source": [
    "## Project Folder Organization and File Reading\n",
    "\n",
    "You must read in the given data file using relative paths, as shown in previous assignments. Organize your work to be in a project folder, with src and data subfolders. Place your solution notebook in the src folder, and the given data file in the data folder."
   ]
  },
  {
   "cell_type": "code",
   "execution_count": null,
   "id": "d43760b6",
   "metadata": {},
   "outputs": [],
   "source": [
    "# Read in the data file (using relative paths for reproducibility). It should be able to download your notebook, put it in the src folder of my project folder, and run it without changing anything.\n",
    "cwd = Path().cwd()\n",
    "path = cwd / 'data' / 'mystery-1.csv'\n",
    "data_df = pd.read_csv(path)\n",
    "print(data_df.head())"
   ]
  },
  {
   "cell_type": "code",
   "execution_count": null,
   "id": "521f6867",
   "metadata": {},
   "outputs": [],
   "source": []
  }
 ],
 "metadata": {
  "kernelspec": {
   "display_name": ".venv",
   "language": "python",
   "name": "python3"
  },
  "language_info": {
   "codemirror_mode": {
    "name": "ipython",
    "version": 3
   },
   "file_extension": ".py",
   "mimetype": "text/x-python",
   "name": "python",
   "nbconvert_exporter": "python",
   "pygments_lexer": "ipython3",
   "version": "3.11.0"
  }
 },
 "nbformat": 4,
 "nbformat_minor": 5
}
